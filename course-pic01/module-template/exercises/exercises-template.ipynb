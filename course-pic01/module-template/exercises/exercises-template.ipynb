{
 "cells": [
  {
   "cell_type": "markdown",
   "metadata": {},
   "source": [
    "# Exercise Title (Double click cell to edit content)\n",
    "\n",
    "## Background\n",
    "\n",
    "This is where you explain the exercise to the students. Define and explain the problem thoroughly.\n",
    "\n",
    "## Sample Input & Output\n",
    "\n",
    "This is where you give the students more information on how you want the program to play out. For example, you want them to make a program that asks them their name and age, them relays it back to them in a greeting:\n",
    "\n",
    "### Sample input\n",
    "\n",
    "``` python\n",
    "Hello, what is your name?\n",
    "> John\n",
    "Thanks! How old are you?\n",
    "> 25\n",
    "```\n",
    "\n",
    "### Sample output\n",
    "\n",
    "``` python\n",
    "Hello John! You are 25 years old! Have a great day!\n",
    "```"
   ]
  },
  {
   "cell_type": "code",
   "execution_count": null,
   "metadata": {},
   "outputs": [],
   "source": [
    "# insert code here for solution"
   ]
  }
 ],
 "metadata": {
  "kernelspec": {
   "display_name": "Python 3",
   "language": "python",
   "name": "python3"
  },
  "language_info": {
   "codemirror_mode": {
    "name": "ipython",
    "version": 3
   },
   "file_extension": ".py",
   "mimetype": "text/x-python",
   "name": "python",
   "nbconvert_exporter": "python",
   "pygments_lexer": "ipython3",
   "version": "3.7.2"
  }
 },
 "nbformat": 4,
 "nbformat_minor": 2
}
