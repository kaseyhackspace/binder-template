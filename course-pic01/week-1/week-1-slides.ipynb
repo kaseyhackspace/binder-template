{
 "cells": [
  {
   "cell_type": "markdown",
   "metadata": {
    "slideshow": {
     "slide_type": "slide"
    }
   },
   "source": [
    "# Python 3 Bare Essentials\n",
    "\n",
    "#### Kasey Martin"
   ]
  },
  {
   "cell_type": "markdown",
   "metadata": {
    "slideshow": {
     "slide_type": "slide"
    }
   },
   "source": [
    "## Outline\n",
    "\n",
    "- Background on Python\n",
    "- Basic Syntax\n",
    "    - Operators\n",
    "    - Variables\n",
    "    - Input and Output\n",
    "    - Comments\n",
    "    - Nesting"
   ]
  },
  {
   "cell_type": "markdown",
   "metadata": {
    "slideshow": {
     "slide_type": "slide"
    }
   },
   "source": [
    "# Background on Python\n",
    "- Python was created by the awesome Guido van Rossum\n",
    "- It is open-source, general purpose, and high-level\n",
    "- It supports multiple paradigms such as procedural, functional and object-oriented programming\n"
   ]
  },
  {
   "cell_type": "markdown",
   "metadata": {
    "slideshow": {
     "slide_type": "slide"
    }
   },
   "source": [
    "# Background on Python\n",
    "\n",
    "- Prides itself in being very readable compared to other languages\n",
    "- Being an interpreted language, its extremely fast to prototype in Python!\n",
    "- Has two versions: 2.7 and 3.x\n",
    "    - For this class, we are using version 3.x since this is the current present and future of Python\n",
    "\n",
    "<div class=\"alert alert-block alert-info\">\n",
    "<b>DID YOU KNOW?</b>   The Python language is named after Monty Python, a comedy group from the 70s.\n",
    "</div>"
   ]
  },
  {
   "cell_type": "markdown",
   "metadata": {
    "slideshow": {
     "slide_type": "slide"
    }
   },
   "source": [
    "# Basic Syntax"
   ]
  },
  {
   "cell_type": "markdown",
   "metadata": {
    "slideshow": {
     "slide_type": "subslide"
    }
   },
   "source": [
    "## Basic Syntax: Operators\n",
    "\n",
    "Python can essentially be used as an interactive calculator! Here are the basic operations we can do:\n",
    "<table style=\"font-size: 18px\">\n",
    "    <tr>\n",
    "        <th>Operator</th>\n",
    "        <th>Operation (Ordered by Precedence)</th>\n",
    "    </tr>\n",
    "    <tr>\n",
    "        <td>'(' and ')'</td>\n",
    "        <td>For specifying Precedence</td>\n",
    "    </tr>\n",
    "    <tr>\n",
    "        <td>**</td>\n",
    "        <td>Exponent</td>\n",
    "    </tr>\n",
    "    <tr>\n",
    "        <td>*</td>\n",
    "        <td>Multiplication</td>\n",
    "    </tr>\n",
    "    <tr>\n",
    "        <td>/</td>\n",
    "        <td>Division</td>\n",
    "    </tr>\n",
    "     <tr>\n",
    "        <td>//</td>\n",
    "        <td>Floor Division</td>\n",
    "    </tr>\n",
    "    <tr>\n",
    "        <td>%</td>\n",
    "        <td>Modulo</td>\n",
    "    </tr>\n",
    "    <tr>\n",
    "        <td>+</td>\n",
    "        <td>Addition</td>\n",
    "    </tr>\n",
    "    <tr>\n",
    "        <td>-</td>\n",
    "        <td>Subtraction</td>\n",
    "    </tr>\n",
    "</table>"
   ]
  },
  {
   "cell_type": "markdown",
   "metadata": {
    "slideshow": {
     "slide_type": "subslide"
    }
   },
   "source": [
    "## Basic Syntax: Operators\n",
    "Don't be shy, go try it out!"
   ]
  },
  {
   "cell_type": "code",
   "execution_count": null,
   "metadata": {},
   "outputs": [],
   "source": [
    "# Press shift+Enter to execute code: try 1+1 first\n"
   ]
  },
  {
   "cell_type": "markdown",
   "metadata": {
    "slideshow": {
     "slide_type": "subslide"
    }
   },
   "source": [
    "## Basic Syntax: Variables\n",
    "- It would be a bummer if we couldn't somehow store all the calculations we made via the operators\n",
    "- Python has us covered with variables"
   ]
  },
  {
   "cell_type": "markdown",
   "metadata": {
    "slideshow": {
     "slide_type": "subslide"
    }
   },
   "source": [
    "## Basic Syntax: Variables\n",
    "- Variables point to values or results of python expressions we execute\n",
    "- Naming Rules\n",
    "    - Case-sensitive\n",
    "    - Can contain letters, numbers, and underscores\n",
    "    - Cannot start with a number\n",
    "    - e.g. myVar, my_var, _myvar, number1"
   ]
  },
  {
   "cell_type": "markdown",
   "metadata": {
    "slideshow": {
     "slide_type": "subslide"
    }
   },
   "source": [
    "## Basic Syntax: Variables\n",
    "- Variables are _dynamically_ typed\n",
    "    - They don't have a pre-defined type\n",
    "        - In C:\n",
    "    ``` c\n",
    "        int num1 = 75;\n",
    "        float pi = 3.14159;\n",
    "    ```\n",
    "        - In Python:\n",
    "    ``` python\n",
    "        num1 = 75\n",
    "        pi = 3.14159\n",
    "    ```"
   ]
  },
  {
   "cell_type": "markdown",
   "metadata": {
    "slideshow": {
     "slide_type": "subslide"
    }
   },
   "source": [
    "## Basic Syntax: Input and Output\n",
    "- One thing that makes programs versitile is the ability to have dynamic input and output.\n",
    "- We can do this with Python by using the `input()` and `print()` functions"
   ]
  },
  {
   "cell_type": "markdown",
   "metadata": {
    "slideshow": {
     "slide_type": "subslide"
    }
   },
   "source": [
    "## Basic Syntax: Input and Output\n",
    "\n",
    "- `input(prompt)`\n",
    "    * Prompts user for keyboard input\n",
    "    * Any input from the keyboard before new line (Enter Key) is returned as a string \n",
    "- `print(*objects, sep=' ', end='\\n', file=sys.stdout, flush=False)`\n",
    "    * first converts arbitrary number of objects to strings that are joined by `sep` and ends in `end`\n",
    "    * concatinated string is printed in `file` "
   ]
  },
  {
   "cell_type": "markdown",
   "metadata": {
    "slideshow": {
     "slide_type": "subslide"
    }
   },
   "source": [
    "## Basic Syntax: Input and Output\n",
    "Try out this script that echos your name:"
   ]
  },
  {
   "cell_type": "code",
   "execution_count": null,
   "metadata": {},
   "outputs": [],
   "source": [
    "# ask user for name\n",
    "name = input(\"What is your name? \")\n",
    "# echo user's name\n",
    "print(\"I knew that, your name is \",name)"
   ]
  },
  {
   "cell_type": "markdown",
   "metadata": {
    "slideshow": {
     "slide_type": "subslide"
    }
   },
   "source": [
    "## Basic Syntax: Comments\n",
    "- Just how bad hand-writing is hard to understand, sometimes, beautiful code can be hard to understand to _(oh the irony!)_\n",
    "- You can use comments in order to explain to other people how your code works\n",
    "- It's also useful for commenting out code you don't want to execute"
   ]
  },
  {
   "cell_type": "markdown",
   "metadata": {
    "slideshow": {
     "slide_type": "subslide"
    }
   },
   "source": [
    "## Basic Syntax: Comments\n",
    "- `# <string>` - Single line comments \n",
    "- `\"\"\"<string>\"\"\"` - Multi-line comments"
   ]
  },
  {
   "cell_type": "code",
   "execution_count": null,
   "metadata": {},
   "outputs": [],
   "source": [
    "    num1 = 75     # This is a comment.\n",
    "    pi = 3.14159\n",
    "\n",
    "    # This is also a comment.\n",
    "    \"\"\"This is a docstring. You can place this \n",
    "    before a new function or class to explain \n",
    "    what it does.\"\"\" \n",
    "    \n",
    "    #print(\"Uncomment me please!\")"
   ]
  },
  {
   "cell_type": "markdown",
   "metadata": {
    "slideshow": {
     "slide_type": "subslide"
    }
   },
   "source": [
    "## Basic Syntax: Nesting\n",
    "- Another way of adding versitility to our programs is by controlling the flow of the program\n",
    "- Simply put, based on certain conditions, certain parts of code will only be executed\n",
    "- a group of related code that gets executed based on the conditions are called _code blocks_\n",
    "- we group the code blocks by performing _nesting_"
   ]
  },
  {
   "cell_type": "markdown",
   "metadata": {
    "slideshow": {
     "slide_type": "subslide"
    }
   },
   "source": [
    "## Basic Syntax: Nesting\n",
    "- Python uses indentations instead of braces\n",
    "    * In C:\n",
    "    ``` c\n",
    "        if(condition){\n",
    "            //do stuff \n",
    "            //here\n",
    "        }\n",
    "    ```\n",
    "    * In Python:\n",
    "    ``` python\n",
    "         if condition:\n",
    "            #do stuff \n",
    "            #here\n",
    "    ```\n"
   ]
  },
  {
   "cell_type": "code",
   "execution_count": null,
   "metadata": {
    "slideshow": {
     "slide_type": "subslide"
    }
   },
   "outputs": [],
   "source": [
    "# let's try out nesting\n",
    "age = int(input(\"How old are you? \"))\n",
    "if age <= 26:\n",
    "    print(\"You are not in your late twenties\")\n",
    "else:\n",
    "    print(\"You are in your late twenties\") "
   ]
  },
  {
   "cell_type": "markdown",
   "metadata": {
    "slideshow": {
     "slide_type": "slide"
    }
   },
   "source": [
    "### Cool! You just finished this module! See you on the next one :)"
   ]
  }
 ],
 "metadata": {
  "celltoolbar": "Slideshow",
  "kernelspec": {
   "display_name": "Python 3",
   "language": "python",
   "name": "python3"
  },
  "language_info": {
   "codemirror_mode": {
    "name": "ipython",
    "version": 3
   },
   "file_extension": ".py",
   "mimetype": "text/x-python",
   "name": "python",
   "nbconvert_exporter": "python",
   "pygments_lexer": "ipython3",
   "version": "3.7.2"
  },
  "rise": {
   "autolaunch": true,
   "enable_chalkboard": true,
   "footer": "Commands:<br/>[Space] - Go to next slide<br/>[Shift + Space] - Go to previous slide<br/>[Shift + Enter] - Execute cell",
   "scroll": true
  }
 },
 "nbformat": 4,
 "nbformat_minor": 2
}
